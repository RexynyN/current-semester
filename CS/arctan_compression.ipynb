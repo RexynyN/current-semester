{
 "cells": [
  {
   "cell_type": "code",
   "execution_count": null,
   "metadata": {},
   "outputs": [],
   "source": [
    "%pip install scipy numpy request\n",
    "import numpy as np\n",
    "from scipy.interpolate import interp1d\n",
    "from scipy.io import wavfile\n",
    "\n",
    "# Mude essa constante pra aumentar/diminuir a compressão\n",
    "COMPRESSION_FACTOR = 5\n",
    "\n",
    "# Função de utilidade para aplicar a transformação \n",
    "def apply(signal, transfer, interpolation='linear'):\n",
    "    constant = np.linspace(-1, 1, len(transfer))\n",
    "    interpolator = interp1d(constant, transfer, interpolation)\n",
    "    return interpolator(signal)\n",
    "\n",
    "# Compressor de amplitude do áudio (usando arco-tangente)\n",
    "def arctan_compressor(x, factor=2):\n",
    "    constant = np.linspace(-1, 1, 1000)\n",
    "    transfer = np.arctan(factor * constant)\n",
    "    transfer /= np.abs(transfer).max()\n",
    "    transfer = assert_range(transfer)\n",
    "    return apply(x, transfer)\n",
    "\n",
    "# Faz um check para valores maiores que os limites por causa da \n",
    "# imprecisão de floats ex: 1.00000084729\n",
    "def assert_range(x):\n",
    "    mask = (x > 1)\n",
    "    x[mask] = 1\n",
    "    mask = (x < -1)\n",
    "    x[mask] = -1\n",
    "    return x \n",
    "\n",
    "# Orquestração das transformações\n",
    "def transform_audio(filename, factor=2):\n",
    "    sr, x = wavfile.read(filename)\n",
    "    # Deixa ele entre -1 <= x <= 1\n",
    "    x = x / np.abs(x).max() \n",
    "    x = assert_range(x)\n",
    "\n",
    "    comp = arctan_compressor(x, factor)\n",
    "    comp = np.int16(comp * 32767)\n",
    "\n",
    "    new_file = filename.split(\".\")[0]\n",
    "    new_file += \"-tranformed.wav\"\n",
    "    wavfile.write(new_file, sr, comp)\n",
    "\n",
    "transform_audio(\"audio.wav\", COMPRESSION_FACTOR)"
   ]
  },
  {
   "cell_type": "code",
   "execution_count": null,
   "metadata": {},
   "outputs": [],
   "source": []
  }
 ],
 "metadata": {
  "language_info": {
   "name": "python"
  }
 },
 "nbformat": 4,
 "nbformat_minor": 2
}
