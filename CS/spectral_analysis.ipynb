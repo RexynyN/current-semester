{
 "cells": [
  {
   "cell_type": "code",
   "execution_count": null,
   "metadata": {},
   "outputs": [],
   "source": [
    "import requests as rq\n",
    "import numpy as np\n",
    "from scipy.io import wavfile\n",
    "import IPython.display as ipd\n",
    "\n",
    "\n",
    "sr = 44100  # sampling frequency in Hertz\n",
    "\n",
    "\n",
    "\n",
    "\n",
    "\n",
    "URL = \"https://http.cat/404\" \n",
    "resposta = rq.get(URL) # Fazemos a requisição para a API\n",
    "\n",
    "data = resposta.content # Pegamos o que ela retorna\n",
    "img = Image(data) # Wow, parece que ela retorna uma imagem!\n",
    "\n",
    "\n",
    "sound = ipd.Audio(x, rate=sr, autoplay=True) # load a NumPy array\n",
    "display(sound) # Mostramos a imagem no notebook"
   ]
  }
 ],
 "metadata": {
  "language_info": {
   "name": "python"
  }
 },
 "nbformat": 4,
 "nbformat_minor": 2
}
